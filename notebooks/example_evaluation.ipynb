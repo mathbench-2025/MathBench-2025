{
 "cells": [
  {
   "cell_type": "code",
   "metadata": {},
   "source": [
    "import json\n",
    "from mathbench.dataset import load_dataset\n",
    "from mathbench.evaluation import evaluate_model_llm\n",
    "import matplotlib.pyplot as plt\n",
    "import seaborn as sns"
   ],
   "execution_count": null,
   "outputs": []
  },
  {
   "cell_type": "code",
   "metadata": {},
   "source": [
    "train_data = load_dataset(\"../data/mathbench_train.json\")\n",
    "valid_data = load_dataset(\"../data/mathbench_valid.json\")\n",
    "test_data  = load_dataset(\"../data/mathbench_test.json\")\n",
    "\n",
    "print(f\"Train: {len(train_data)}, Valid: {len(valid_data)}, Test: {len(test_data)}\")"
   ],
   "execution_count": null,
   "outputs": []
  },
  {
   "cell_type": "code",
   "metadata": {},
   "source": [
    "types = [p['problem_type'] for p in train_data]\n",
    "sns.countplot(x=types)\n",
    "plt.title(\"Problem Type Distribution in Train Set\")\n",
    "plt.show()"
   ],
   "execution_count": null,
   "outputs": []
  },
  {
   "cell_type": "code",
   "metadata": {},
   "source": [
    "complexity = [p['complexity_level'] for p in train_data]\n",
    "sns.histplot(complexity, bins=5)\n",
    "plt.title(\"Complexity Distribution in Train Set\")\n",
    "plt.show()"
   ],
   "execution_count": null,
   "outputs": []
  },
  {
   "cell_type": "code",
   "metadata": {},
   "source": [
    "# Requires OPENAI_API_KEY in environment\n",
    "results = evaluate_model_llm(test_data, model_name=\"gpt-4\")\n",
    "print(\"Evaluation Results:\", results)"
   ],
   "execution_count": null,
   "outputs": []
  },
  {
   "cell_type": "code",
   "metadata": {},
   "source": [
    "import pandas as pd\n",
    "df = pd.DataFrame([results])\n",
    "df.to_csv(\"../data/evaluation_results.csv\", index=False)\n",
    "print(\"Results saved to evaluation_results.csv\")"
   ],
   "execution_count": null,
   "outputs": []
  }
 ],
 "metadata": {
  "kernelspec": {
   "display_name": "Python 3",
   "language": "python",
   "name": "python3"
  },
  "language_info": {
   "name": "python",
   "version": "3.11"
  }
 },
 "nbformat": 4,
 "nbformat_minor": 5
}
